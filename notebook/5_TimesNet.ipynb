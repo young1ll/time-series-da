{
 "cells": [
  {
   "attachments": {},
   "cell_type": "markdown",
   "metadata": {},
   "source": [
    "# 5. TimesNet"
   ]
  },
  {
   "attachments": {},
   "cell_type": "markdown",
   "metadata": {},
   "source": [
    "## 데이터 수집"
   ]
  },
  {
   "cell_type": "code",
   "execution_count": null,
   "metadata": {},
   "outputs": [],
   "source": [
    "from pandas_datareader import data as pdr\n",
    "import yfinance as yfin\n",
    "from datetime import date, datetime\n",
    "\n",
    "today = date.today()\n",
    "date_today = today.strftime(\"%Y-%m-%d\")\n",
    "date_start = datetime(2013,1,1)\n",
    "\n",
    "# BTC(KRW)\n",
    "yfin.pdr_override()\n",
    "\n",
    "btc_krwname = 'Bitcoin(KRW)'\n",
    "btc_krw = 'BTC-KRW'\n",
    "btc_krw_df = pdr.get_data_yahoo(btc_krw, start=date_start, end=date_today)\n",
    "\n",
    "print(btc_krw_df.shape)\n",
    "btc_krw_df"
   ]
  },
  {
   "cell_type": "code",
   "execution_count": null,
   "metadata": {},
   "outputs": [],
   "source": [
    "import torch\n",
    "import pandas as pd\n",
    "from TimesNet import Model\n",
    "\n",
    "# 데이터 전처리\n",
    "def preprocess_data(data):\n",
    "    # 데이터 스케일링 등 전처리 작업을 수행하세요.\n",
    "    processed_data = ...\n",
    "\n",
    "    return processed_data\n",
    "\n",
    "# 데이터 준비\n",
    "data = preprocess_data(btc_krw_df)\n",
    "\n",
    "# 모델 초기화 및 설정\n",
    "configs = ...\n",
    "model = Model(configs)\n",
    "device = torch.device(\"cuda\" if torch.cuda.is_available() else \"cpu\")\n",
    "model.to(device)\n",
    "\n",
    "# 예측에 사용할 입력 데이터\n",
    "x_enc = torch.tensor(data)  # 입력 데이터 (B, C, T)\n",
    "x_mark_enc = torch.tensor(...)  # 마크 데이터 (B, M, T)\n",
    "x_dec = torch.tensor(...)  # 예측할 시간대의 입력 데이터 (B, C, T)\n",
    "x_mark_dec = torch.tensor(...)  # 예측할 시간대의 마크 데이터 (B, M, T)\n",
    "\n",
    "# 예측 수행\n",
    "model.eval()\n",
    "with torch.no_grad():\n",
    "    x_enc = x_enc.to(device)\n",
    "    x_mark_enc = x_mark_enc.to(device)\n",
    "    x_dec = x_dec.to(device)\n",
    "    x_mark_dec = x_mark_dec.to(device)\n",
    "    predictions = model(x_enc, x_mark_enc, x_dec, x_mark_dec)\n",
    "\n",
    "# 예측 결과 출력\n",
    "print(predictions)"
   ]
  }
 ],
 "metadata": {
  "language_info": {
   "name": "python"
  },
  "orig_nbformat": 4
 },
 "nbformat": 4,
 "nbformat_minor": 2
}
